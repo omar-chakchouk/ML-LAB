{
 "cells": [
  {
   "cell_type": "code",
   "execution_count": 1,
   "id": "c873d865-bb6f-440c-8b47-6855d85363d2",
   "metadata": {},
   "outputs": [],
   "source": [
    "import pandas as pd\n",
    "from sklearn.model_selection import train_test_split\n",
    "from sklearn.tree import DecisionTreeClassifier\n",
    "from sklearn.metrics import classification_report, accuracy_score, confusion_matrix\n",
    "from imblearn.over_sampling import RandomOverSampler"
   ]
  },
  {
   "cell_type": "code",
   "execution_count": 3,
   "id": "4a5ac7a0-7742-475c-a7b9-c99e3ec0cfef",
   "metadata": {},
   "outputs": [],
   "source": [
    "def prepare_data(features_df):\n",
    "    X = features_df.drop(columns=['Output'])\n",
    "    y = features_df['Output']\n",
    "    y = y.map({'legitimate': 0, 'dga': 1})\n",
    "    return X, y"
   ]
  },
  {
   "cell_type": "code",
   "execution_count": 5,
   "id": "e7ad6cb5-b538-400b-87cb-48f3ae582fd3",
   "metadata": {},
   "outputs": [],
   "source": [
    "def shuffle_data(X, y):\n",
    "    combined = pd.concat([X, y], axis=1)\n",
    "    shuffled = combined.sample(frac=1, random_state=42).reset_index(drop=True)\n",
    "    X = shuffled.drop(columns=['Output'])\n",
    "    y = shuffled['Output']\n",
    "    return X, y"
   ]
  },
  {
   "cell_type": "code",
   "execution_count": 7,
   "id": "6145390d-c799-47be-b721-1f72beca00bf",
   "metadata": {},
   "outputs": [],
   "source": [
    "def train_decision_tree(X, y, max_depth=None, min_samples_split=2, min_samples_leaf=1):\n",
    "    X, y = shuffle_data(X, y)\n",
    "    X_train, X_test, y_train, y_test = train_test_split(X, y, test_size=0.3, random_state=42)\n",
    "    clf = DecisionTreeClassifier(random_state=42, \n",
    "                                 max_depth=max_depth, \n",
    "                                 min_samples_split=min_samples_split, \n",
    "                                 min_samples_leaf=min_samples_leaf)\n",
    "    clf.fit(X_train, y_train)\n",
    "    y_pred = clf.predict(X_test)\n",
    "    print(\"Accuracy:\", accuracy_score(y_test, y_pred))\n",
    "    print(\"Confusion Matrix:\\n\", confusion_matrix(y_test, y_pred))\n",
    "    print(\"Classification Report:\\n\", classification_report(y_test, y_pred))\n",
    "    return clf"
   ]
  },
  {
   "cell_type": "code",
   "execution_count": 9,
   "id": "b32304f5-cfb2-4b94-9ff6-c9eb507a40e3",
   "metadata": {},
   "outputs": [
    {
     "name": "stdout",
     "output_type": "stream",
     "text": [
      "Accuracy: 0.9999383553199359\n",
      "Confusion Matrix:\n",
      " [[7897    1]\n",
      " [   0 8324]]\n",
      "Classification Report:\n",
      "               precision    recall  f1-score   support\n",
      "\n",
      "           0       1.00      1.00      1.00      7898\n",
      "           1       1.00      1.00      1.00      8324\n",
      "\n",
      "    accuracy                           1.00     16222\n",
      "   macro avg       1.00      1.00      1.00     16222\n",
      "weighted avg       1.00      1.00      1.00     16222\n",
      "\n"
     ]
    }
   ],
   "source": [
    "def main():\n",
    "    features_df = pd.read_csv('features.csv')\n",
    "    X, y = prepare_data(features_df)\n",
    "    clf = train_decision_tree(X, y, max_depth=10, min_samples_split=15, min_samples_leaf=5)\n",
    "\n",
    "if __name__ == \"__main__\":\n",
    "    main()"
   ]
  },
  {
   "cell_type": "code",
   "execution_count": null,
   "id": "9ac35b43-2971-4218-aa11-305e9a0c9c03",
   "metadata": {},
   "outputs": [],
   "source": []
  }
 ],
 "metadata": {
  "kernelspec": {
   "display_name": "Python 3 (ipykernel)",
   "language": "python",
   "name": "python3"
  },
  "language_info": {
   "codemirror_mode": {
    "name": "ipython",
    "version": 3
   },
   "file_extension": ".py",
   "mimetype": "text/x-python",
   "name": "python",
   "nbconvert_exporter": "python",
   "pygments_lexer": "ipython3",
   "version": "3.12.4"
  }
 },
 "nbformat": 4,
 "nbformat_minor": 5
}
