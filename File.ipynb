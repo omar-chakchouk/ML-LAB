{
 "cells": [
  {
   "cell_type": "code",
   "execution_count": 1,
   "id": "19c61d94-a12f-4ef0-9a7c-bbb93f8a9014",
   "metadata": {},
   "outputs": [],
   "source": [
    "import os\n",
    "\n",
    "def merge_files_and_renumber_ids(input_dir_logs, input_dir_traces, output_file):\n",
    "    all_lines = []\n",
    "\n",
    "    if os.path.exists(input_dir_logs):\n",
    "        for filename in sorted(os.listdir(input_dir_logs)):\n",
    "            if filename.endswith(\".txt\"):\n",
    "                with open(os.path.join(input_dir_logs, filename), 'r') as infile:\n",
    "                    for line in infile:\n",
    "                        line = line.strip() + \";dga\"\n",
    "                        all_lines.append(line)\n",
    "\n",
    "    if os.path.exists(input_dir_traces):\n",
    "        for filename in sorted(os.listdir(input_dir_traces)):\n",
    "            file_path = os.path.join(input_dir_traces, filename)\n",
    "            if os.path.isfile(file_path):\n",
    "                with open(file_path, 'r') as infile:\n",
    "                    for line in infile:\n",
    "                        line = line.strip() + \";legitimate\"\n",
    "                        all_lines.append(line)\n",
    "\n",
    "    with open(output_file, 'w') as outfile:\n",
    "        current_id = 1\n",
    "        for line in all_lines:\n",
    "            parts = line.split(\";\")\n",
    "            parts[0] = str(current_id)\n",
    "            outfile.write(\";\".join(parts) + \"\\n\")\n",
    "            current_id += 1\n",
    "\n",
    "input_directory_logs = \"/Users/omacha/Documents/LOGs\"\n",
    "input_directory_traces = \"/Users/omacha/Documents/TRACES\"\n",
    "output_file = \"dga_simulation_log.txt\"\n",
    "\n",
    "merge_files_and_renumber_ids(input_directory_logs, input_directory_traces, output_file)\n"
   ]
  },
  {
   "cell_type": "code",
   "execution_count": null,
   "id": "14b803ec-f928-43f9-a496-2938db09d31d",
   "metadata": {},
   "outputs": [],
   "source": []
  }
 ],
 "metadata": {
  "kernelspec": {
   "display_name": "Python 3 (ipykernel)",
   "language": "python",
   "name": "python3"
  },
  "language_info": {
   "codemirror_mode": {
    "name": "ipython",
    "version": 3
   },
   "file_extension": ".py",
   "mimetype": "text/x-python",
   "name": "python",
   "nbconvert_exporter": "python",
   "pygments_lexer": "ipython3",
   "version": "3.12.4"
  }
 },
 "nbformat": 4,
 "nbformat_minor": 5
}
